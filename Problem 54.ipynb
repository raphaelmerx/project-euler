{
 "metadata": {
  "name": ""
 },
 "nbformat": 3,
 "nbformat_minor": 0,
 "worksheets": [
  {
   "cells": [
    {
     "cell_type": "code",
     "collapsed": false,
     "input": [
      "f = open('pb_54_data.txt', 'r')"
     ],
     "language": "python",
     "metadata": {},
     "outputs": [],
     "prompt_number": 53
    },
    {
     "cell_type": "code",
     "collapsed": false,
     "input": [
      "line = f.readline()"
     ],
     "language": "python",
     "metadata": {},
     "outputs": [],
     "prompt_number": 49
    },
    {
     "cell_type": "code",
     "collapsed": false,
     "input": [
      "line"
     ],
     "language": "python",
     "metadata": {},
     "outputs": [
      {
       "metadata": {},
       "output_type": "pyout",
       "prompt_number": 50,
       "text": [
        "'8C TS KC 9H 4S 7D 2S 5D 3S AC\\n'"
       ]
      }
     ],
     "prompt_number": 50
    },
    {
     "cell_type": "code",
     "collapsed": false,
     "input": [
      "hand1 = line[0:14]"
     ],
     "language": "python",
     "metadata": {},
     "outputs": [],
     "prompt_number": 34
    },
    {
     "cell_type": "code",
     "collapsed": false,
     "input": [
      "hand2 = line[15:29]"
     ],
     "language": "python",
     "metadata": {},
     "outputs": [],
     "prompt_number": 35
    },
    {
     "cell_type": "code",
     "collapsed": false,
     "input": [
      "hand1[3:5]"
     ],
     "language": "python",
     "metadata": {},
     "outputs": [
      {
       "metadata": {},
       "output_type": "pyout",
       "prompt_number": 36,
       "text": [
        "'TS'"
       ]
      }
     ],
     "prompt_number": 36
    },
    {
     "cell_type": "code",
     "collapsed": false,
     "input": [
      "hand=[]\n",
      "for i in range(5):\n",
      "    hand.append(hand1[3*i:3*i+2])"
     ],
     "language": "python",
     "metadata": {},
     "outputs": [],
     "prompt_number": 39
    },
    {
     "cell_type": "code",
     "collapsed": false,
     "input": [
      "hand"
     ],
     "language": "python",
     "metadata": {},
     "outputs": [
      {
       "metadata": {},
       "output_type": "pyout",
       "prompt_number": 73,
       "text": [
        "['8C', 'TS', 'KC', '9H', '4S']"
       ]
      }
     ],
     "prompt_number": 73
    },
    {
     "cell_type": "code",
     "collapsed": false,
     "input": [
      "f = open('pb_54_data.txt', 'r')\n",
      "\n",
      "allHands = f.readlines()\n",
      "for oneRound in allHands:\n",
      "\thand1, hand2 = [],[]\n",
      "\tfor i in range(5):\n",
      "\t\thand1.append(oneRound[3*i:3*i+2])\n",
      "\tfor i in range(5,10):\n",
      "\t\thand2.append(oneRound[3*i:3*i+2])"
     ],
     "language": "python",
     "metadata": {},
     "outputs": [],
     "prompt_number": 60
    },
    {
     "cell_type": "code",
     "collapsed": false,
     "input": [
      "sorted(['T','J','Q','K','A'])"
     ],
     "language": "python",
     "metadata": {},
     "outputs": [
      {
       "metadata": {},
       "output_type": "pyout",
       "prompt_number": 66,
       "text": [
        "['A', 'J', 'K', 'Q', 'T']"
       ]
      }
     ],
     "prompt_number": 66
    },
    {
     "cell_type": "code",
     "collapsed": false,
     "input": [
      "sorted(['J','Q',2,3], key= lambda figure: ['A','K','Q','J','T',9,8,7,6,5,4,3,2].index(figure))\n",
      "# list [A,K,Q, ...., 3,2]\n",
      "# if encounter 3, return index of 3 in list of values"
     ],
     "language": "python",
     "metadata": {},
     "outputs": [
      {
       "metadata": {},
       "output_type": "pyout",
       "prompt_number": 71,
       "text": [
        "['Q', 'J', 3, 2]"
       ]
      }
     ],
     "prompt_number": 71
    },
    {
     "cell_type": "code",
     "collapsed": false,
     "input": [
      "def n_slices(n, list_):\n",
      "    for i in xrange(len(list_) + 1 - n):\n",
      "        yield list_[i:i+n]\n",
      "\n",
      "def isSublist(sub_list, list_):\n",
      "    for slice_ in n_slices(len(sub_list), list_):\n",
      "        if slice_ == sub_list:\n",
      "            return True\n",
      "    return False\n",
      "\n",
      "def isStraightFlush(hand):\n",
      "    values = []\n",
      "    # Do cards all have the same suit?\n",
      "    color = hand[1][1:2]\n",
      "    for card in hand:\n",
      "        if card[1:2] == color:\n",
      "            values.append(card[0:1])\n",
      "        else:\n",
      "            return False\n",
      "    # sorting according to the rules\n",
      "    values = sorted(values, key= lambda figure: ['A','K','Q','J','T','9','8','7','6','5','4','3','2'].index(figure))\n",
      "    return isSublist(['A','K','Q','J','T','9','8','7','6','5','4','3','2'], values)"
     ],
     "language": "python",
     "metadata": {},
     "outputs": [],
     "prompt_number": 131
    },
    {
     "cell_type": "code",
     "collapsed": false,
     "input": [
      "hand = ['8C', '9C', 'TC', 'JC', 'QC']\n",
      "isStraightFlush(hand)"
     ],
     "language": "python",
     "metadata": {},
     "outputs": [
      {
       "output_type": "stream",
       "stream": "stdout",
       "text": [
        "['Q', 'J', 'T', '9', '8']\n"
       ]
      },
      {
       "metadata": {},
       "output_type": "pyout",
       "prompt_number": 94,
       "text": [
        "True"
       ]
      }
     ],
     "prompt_number": 94
    },
    {
     "cell_type": "code",
     "collapsed": false,
     "input": [
      "def isTwoPairs(hand):\n",
      "    # get the values\n",
      "    values = []\n",
      "    for card in hand:\n",
      "        values.append(card[0:1])\n",
      "    nbOfPairs = 0\n",
      "    for value in values:\n",
      "        if values.count(value)==2:\n",
      "            nbOfPairs += 1\n",
      "            values = filter(lambda a: a != value, values)\n",
      "    return nbOfPairs == 2"
     ],
     "language": "python",
     "metadata": {},
     "outputs": [],
     "prompt_number": 137
    },
    {
     "cell_type": "code",
     "collapsed": false,
     "input": [
      "hand = ['8C', '6C', '6C', '8C', '8C']\n",
      "isTwoPairs(hand)"
     ],
     "language": "python",
     "metadata": {},
     "outputs": [
      {
       "metadata": {},
       "output_type": "pyout",
       "prompt_number": 141,
       "text": [
        "False"
       ]
      }
     ],
     "prompt_number": 141
    },
    {
     "cell_type": "code",
     "collapsed": false,
     "input": [
      "b = False"
     ],
     "language": "python",
     "metadata": {},
     "outputs": [],
     "prompt_number": 145
    },
    {
     "cell_type": "code",
     "collapsed": false,
     "input": [
      "False in b"
     ],
     "language": "python",
     "metadata": {},
     "outputs": [
      {
       "ename": "TypeError",
       "evalue": "argument of type 'bool' is not iterable",
       "output_type": "pyerr",
       "traceback": [
        "\u001b[0;31m---------------------------------------------------------------------------\u001b[0m\n\u001b[0;31mTypeError\u001b[0m                                 Traceback (most recent call last)",
        "\u001b[0;32m<ipython-input-146-316ea06d3b92>\u001b[0m in \u001b[0;36m<module>\u001b[0;34m()\u001b[0m\n\u001b[0;32m----> 1\u001b[0;31m \u001b[0mFalse\u001b[0m \u001b[0;32min\u001b[0m \u001b[0mb\u001b[0m\u001b[0;34m\u001b[0m\u001b[0m\n\u001b[0m",
        "\u001b[0;31mTypeError\u001b[0m: argument of type 'bool' is not iterable"
       ]
      }
     ],
     "prompt_number": 146
    },
    {
     "cell_type": "code",
     "collapsed": false,
     "input": [
      "l = [2,3]\n",
      "def f(a):\n",
      "    a = l[1]\n",
      "    print a\n",
      "    return a"
     ],
     "language": "python",
     "metadata": {},
     "outputs": [],
     "prompt_number": 154
    },
    {
     "cell_type": "code",
     "collapsed": false,
     "input": [
      "orderOfHands"
     ],
     "language": "python",
     "metadata": {},
     "outputs": [
      {
       "metadata": {},
       "output_type": "pyout",
       "prompt_number": 195,
       "text": [
        "[<function __main__.isTwoPairs>, <function __main__.isOnePair>]"
       ]
      }
     ],
     "prompt_number": 195
    },
    {
     "cell_type": "code",
     "collapsed": false,
     "input": [
      "orderOfHands = [isTwoPairs, \n",
      "isOnePair]"
     ],
     "language": "python",
     "metadata": {},
     "outputs": [],
     "prompt_number": 194
    },
    {
     "cell_type": "code",
     "collapsed": false,
     "input": [
      "def isOnePair(hand):\n",
      "    # get the values\n",
      "    values = []\n",
      "    for card in hand:\n",
      "        values.append(card[0:1])\n",
      "    nbOfPairs = 0\n",
      "    for value in values:\n",
      "        if values.count(value)==2:\n",
      "            nbOfPairs += 1\n",
      "            pairValue = value\n",
      "            values = filter(lambda a: a != value, values)\n",
      "    values = sorted(values, key= lambda figure: orderOfCards.index(figure)) \n",
      "    if nbOfPairs == 1:\n",
      "        return (True, [pairValue, pairValue] + values)\n",
      "    else:\n",
      "        return False"
     ],
     "language": "python",
     "metadata": {},
     "outputs": [],
     "prompt_number": 189
    },
    {
     "cell_type": "code",
     "collapsed": false,
     "input": [
      "hand = ['8C', '9C', '8C', '6C', 'TC']\n",
      "isOnePair(hand)"
     ],
     "language": "python",
     "metadata": {},
     "outputs": [
      {
       "metadata": {},
       "output_type": "pyout",
       "prompt_number": 190,
       "text": [
        "(True, ['8', '8', 'T', '9', '6'])"
       ]
      }
     ],
     "prompt_number": 190
    },
    {
     "cell_type": "code",
     "collapsed": false,
     "input": [
      "\n",
      "\n",
      "def n_slices(n, list_):\n",
      "    for i in xrange(len(list_) + 1 - n):\n",
      "        yield list_[i:i+n]\n",
      "\n",
      "def isSublist(sub_list, list_):\n",
      "    for slice_ in n_slices(len(sub_list), list_):\n",
      "        if slice_ == sub_list:\n",
      "            return True\n",
      "    return False\n",
      "\n",
      "'''\n",
      "read the line\n",
      "get hand1, hand2\n",
      "essayer les fonctions sur hand1, hand2\n",
      "retourner best1, best2 formes d'un index et une list de cartes\n",
      "comparer les index\n",
      "si egaux, comparer les cartes\n",
      "'''\n",
      "\n",
      "def getHandValue(hand):\n",
      "\tfor func in orderOfHands:\n",
      "\t\tif func(hand) != False:\n",
      "\t\t\tbest = orderOfHands.index(func)\n",
      "\t\t\treturn (best, func(hand)[1])\n",
      "\n",
      "# All functions will return a set with a boolean and when necessary, a list of values\n",
      "# list of values will contain first the most important cards, etc\n",
      "# e.g. if the hand is a pair, the pair will be given first\n",
      "def isRoyalFlush(hand):\n",
      "\tvalues = []\n",
      "\t# get the color of the first card\n",
      "\tcolor = hand[1][1:2]\n",
      "\tfor card in hand:\n",
      "\t\tif card[1:2] == color:\n",
      "\t\t\tvalues.append(card[0:1])\n",
      "\t\telse:\n",
      "\t\t\treturn False\n",
      "\treturn ( sorted(values) == sorted(['T','J','Q','K','A']) )\n",
      "\n",
      "# Straight Flush: All cards are consecutive values of same suit.\n",
      "def isStraightFlush(hand):\n",
      "\tvalues = []\n",
      "\t# Do cards all have the same suit?\n",
      "\tcolor = hand[1][1:2]\n",
      "\tfor card in hand:\n",
      "\t\tif card[1:2] == color:\n",
      "\t\t\tvalues.append(card[0:1])\n",
      "\t\telse:\n",
      "\t\t\treturn False\n",
      "\t# sorting according to the rules\n",
      "\tvalues = sorted(values, key= lambda figure: orderOfCards.index(figure))\n",
      "\treturn ( isSublist(values,orderOfCards), values )\n",
      "\n",
      "def isFourOfAKind(hand):\n",
      "\t# get the values\n",
      "\tvalues = []\n",
      "\tfor card in hand:\n",
      "\t\tvalues.append(card[0:1])\n",
      "\tfor value in values:\n",
      "\t\tif values.count(value)==4:\n",
      "\t\t\tlastValue = filter(lambda a: a != value, values)[0]\n",
      "\t\t\treturn (True, [value, value, value, value, lastValue]  )\n",
      "\treturn False\n",
      "\n",
      "def isFullHouse(hand):\n",
      "\t# get the values\n",
      "\tvalues = []\n",
      "\tfor card in hand:\n",
      "\t\tvalues.append(card[0:1])\n",
      "\thasFull,hasPair = False, False\n",
      "\tfor value in values:\n",
      "\t\tif values.count(value)==3:\n",
      "\t\t\thasFull = True\n",
      "\t\t\tvalue1 = value\n",
      "\t\tif values.count(value)==2:\n",
      "\t\t\thasPair = True\n",
      "\t\t\tvalue2 = value\n",
      "\tif hasFull and hasPair:\n",
      "\t\treturn (True, [value1,value1,value1,value2,value2])\n",
      "\telse:\n",
      "\t\treturn False\n",
      "\n",
      "def isFlush(hand):\n",
      "\tsuits = set()\n",
      "\tfor card in hand:\n",
      "\t\tsuits.add(card[1:2])\n",
      "\tif len(suits) == 1:\n",
      "\t\tvalues = sorted(values, key= lambda figure: orderOfCards.index(figure))\n",
      "\t\treturn (True, values)\n",
      "\telse:\n",
      "\t\treturn False\n",
      "\n",
      "#Straight: All cards are consecutive values.\n",
      "def isStraight(hand):\n",
      "\tvalues = []\n",
      "\tfor card in hand:\n",
      "\t\tvalues.append(card[0:1])\n",
      "\t# sorting according to the rules\n",
      "\tvalues = sorted(values, key= lambda figure: orderOfCards.index(figure))\n",
      "\tif isSublist(values,orderOfCards):\n",
      "\t\treturn (True, values)\n",
      "\n",
      "# Three of a Kind: Three cards of the same value.\n",
      "def isThreeOfAKind(hand):\n",
      "\t# get the values\n",
      "\tvalues = []\n",
      "\tfor card in hand:\n",
      "\t\tvalues.append(card[0:1])\n",
      "\tfor value in values:\n",
      "\t\tif values.count(value)==3:\n",
      "\t\t\tallButValue = filter(lambda a: a != value, values)\n",
      "\t\t\tallButValue = sorted(allButValue, key= lambda figure: orderOfCards.index(figure))\n",
      "\t\t\treturn (True, [value, value, value] + allButValue )\n",
      "\treturn False\n",
      "\n",
      "# Two Pairs: Two different pairs.\n",
      "def isTwoPairs(hand):\n",
      "\t# get the values\n",
      "\tvalues = []\n",
      "\tfor card in hand:\n",
      "\t\tvalues.append(card[0:1])\n",
      "\tnbOfPairs = 0\n",
      "\tfor value in values:\n",
      "\t\tif values.count(value)==2:\n",
      "\t\t\tnbOfPairs += 1\n",
      "\t\t\tvalues = filter(lambda a: a != value, values)\n",
      "\tloneCard = values[0]\n",
      "\t# recreate values from scratch\n",
      "\tvalues = []\n",
      "\tfor card in hand:\n",
      "\t\tvalues.append(card[0:1])\n",
      "\t# keep only the two pairs\n",
      "\tvalues = filter(lambda a: a != loneCard, values)\n",
      "\tvalues = sorted(values, key= lambda figure: orderOfCards.index(figure)) \n",
      "\tif nbOfPairs == 2:\n",
      "\t\treturn (True, values + [loneCard])\n",
      "\telse:\n",
      "\t\treturn False\n",
      "\n",
      "# One Pair: Two cards of the same value.\n",
      "def isOnePair(hand):\n",
      "\t# get the values\n",
      "\tvalues = []\n",
      "\tfor card in hand:\n",
      "\t\tvalues.append(card[0:1])\n",
      "\tnbOfPairs = 0\n",
      "\tfor value in values:\n",
      "\t\tif values.count(value)==2:\n",
      "\t\t\tnbOfPairs += 1\n",
      "\t\t\tpairValue = value\n",
      "\t\t\tvalues = filter(lambda a: a != value, values)\n",
      "\tvalues = sorted(values, key= lambda figure: orderOfCards.index(figure)) \n",
      "\tif nbOfPairs == 1:\n",
      "\t\treturn (True, [pairValue, pairValue] + values)\n",
      "\telse:\n",
      "\t\treturn False\n",
      "\n",
      "def highestCard(hand):\n",
      "\t# get the values\n",
      "\tvalues = []\n",
      "\tfor card in hand:\n",
      "\t\tvalues.append(card[0:1])\n",
      "\tvalues = sorted(values, key= lambda figure: orderOfCards.index(figure)) \n",
      "\treturn (True, values)\n",
      "\n",
      "\n",
      "\n",
      "orderOfCards = ['A','K','Q','J','T','9','8','7','6','5','4','3','2']\n",
      "orderOfHands = [isRoyalFlush, isStraightFlush, isFourOfAKind, isFullHouse, isFlush, isStraight,\n",
      "isThreeOfAKind,isTwoPairs, isOnePair, highestCard]\n",
      "\n",
      "f = open('pb_54_data.txt', 'r')\n",
      "\n",
      "# 1000 lines is ok for memory\n",
      "allHands = f.readlines()\n",
      "player1Wins = 0\n",
      "for oneRound in allHands:\n",
      "\thand1, hand2 = [],[]\n",
      "\tfor i in range(5):\n",
      "\t\thand1.append(oneRound[3*i:3*i+2])\n",
      "\tfor i in range(5,10):\n",
      "\t\thand2.append(oneRound[3*i:3*i+2])\n",
      "\tbest1 = getHandValue(hand1)\n",
      "\tbest2 = getHandValue(hand2)\n",
      "\tif best1[0] < best2[0]:\n",
      "\t\tplayer1Wins += 1\n",
      "\telif best1[0] == best2[0]:\n",
      "\t\thand1 = best1[1]\n",
      "\t\thand2 = best2[1]\n",
      "\t\twin1 = False\n",
      "\t\ti = 0\n",
      "\t\twhile win1 == False and i<5:\n",
      "\t\t\tindex1 = orderOfCards.index[hand1[i]]\n",
      "\t\t\tindex2 = orderOfCards.index[hand2[i]]\n",
      "\t\t\tif index1 < index2:\n",
      "\t\t\t\twin1 = True\n",
      "\t\t\t\tplayer1Wins += 1\n",
      "\t\t\ti = i+1\n",
      "\n",
      "\n",
      "\t# hand1, hand2 lists of the cards in the hands of players\n",
      "\n",
      "\t\t\n"
     ],
     "language": "python",
     "metadata": {},
     "outputs": [
      {
       "ename": "TypeError",
       "evalue": "'NoneType' object has no attribute '__getitem__'",
       "output_type": "pyerr",
       "traceback": [
        "\u001b[0;31m---------------------------------------------------------------------------\u001b[0m\n\u001b[0;31mTypeError\u001b[0m                                 Traceback (most recent call last)",
        "\u001b[0;32m<ipython-input-200-317ff068f6f7>\u001b[0m in \u001b[0;36m<module>\u001b[0;34m()\u001b[0m\n\u001b[1;32m    183\u001b[0m         \u001b[0;32mfor\u001b[0m \u001b[0mi\u001b[0m \u001b[0;32min\u001b[0m \u001b[0mrange\u001b[0m\u001b[0;34m(\u001b[0m\u001b[0;36m5\u001b[0m\u001b[0;34m,\u001b[0m\u001b[0;36m10\u001b[0m\u001b[0;34m)\u001b[0m\u001b[0;34m:\u001b[0m\u001b[0;34m\u001b[0m\u001b[0m\n\u001b[1;32m    184\u001b[0m                 \u001b[0mhand2\u001b[0m\u001b[0;34m.\u001b[0m\u001b[0mappend\u001b[0m\u001b[0;34m(\u001b[0m\u001b[0moneRound\u001b[0m\u001b[0;34m[\u001b[0m\u001b[0;36m3\u001b[0m\u001b[0;34m*\u001b[0m\u001b[0mi\u001b[0m\u001b[0;34m:\u001b[0m\u001b[0;36m3\u001b[0m\u001b[0;34m*\u001b[0m\u001b[0mi\u001b[0m\u001b[0;34m+\u001b[0m\u001b[0;36m2\u001b[0m\u001b[0;34m]\u001b[0m\u001b[0;34m)\u001b[0m\u001b[0;34m\u001b[0m\u001b[0m\n\u001b[0;32m--> 185\u001b[0;31m         \u001b[0mbest1\u001b[0m \u001b[0;34m=\u001b[0m \u001b[0mgetHandValue\u001b[0m\u001b[0;34m(\u001b[0m\u001b[0mhand1\u001b[0m\u001b[0;34m)\u001b[0m\u001b[0;34m\u001b[0m\u001b[0m\n\u001b[0m\u001b[1;32m    186\u001b[0m         \u001b[0mbest2\u001b[0m \u001b[0;34m=\u001b[0m \u001b[0mgetHandValue\u001b[0m\u001b[0;34m(\u001b[0m\u001b[0mhand2\u001b[0m\u001b[0;34m)\u001b[0m\u001b[0;34m\u001b[0m\u001b[0m\n\u001b[1;32m    187\u001b[0m         \u001b[0;32mif\u001b[0m \u001b[0mbest1\u001b[0m\u001b[0;34m[\u001b[0m\u001b[0;36m0\u001b[0m\u001b[0;34m]\u001b[0m \u001b[0;34m<\u001b[0m \u001b[0mbest2\u001b[0m\u001b[0;34m[\u001b[0m\u001b[0;36m0\u001b[0m\u001b[0;34m]\u001b[0m\u001b[0;34m:\u001b[0m\u001b[0;34m\u001b[0m\u001b[0m\n",
        "\u001b[0;32m<ipython-input-200-317ff068f6f7>\u001b[0m in \u001b[0;36mgetHandValue\u001b[0;34m(hand)\u001b[0m\n\u001b[1;32m     24\u001b[0m                 \u001b[0;32mif\u001b[0m \u001b[0mfunc\u001b[0m\u001b[0;34m(\u001b[0m\u001b[0mhand\u001b[0m\u001b[0;34m)\u001b[0m \u001b[0;34m!=\u001b[0m \u001b[0mFalse\u001b[0m\u001b[0;34m:\u001b[0m\u001b[0;34m\u001b[0m\u001b[0m\n\u001b[1;32m     25\u001b[0m                         \u001b[0mbest\u001b[0m \u001b[0;34m=\u001b[0m \u001b[0morderOfHands\u001b[0m\u001b[0;34m.\u001b[0m\u001b[0mindex\u001b[0m\u001b[0;34m(\u001b[0m\u001b[0mfunc\u001b[0m\u001b[0;34m)\u001b[0m\u001b[0;34m\u001b[0m\u001b[0m\n\u001b[0;32m---> 26\u001b[0;31m                         \u001b[0;32mreturn\u001b[0m \u001b[0;34m(\u001b[0m\u001b[0mbest\u001b[0m\u001b[0;34m,\u001b[0m \u001b[0mfunc\u001b[0m\u001b[0;34m(\u001b[0m\u001b[0mhand\u001b[0m\u001b[0;34m)\u001b[0m\u001b[0;34m[\u001b[0m\u001b[0;36m1\u001b[0m\u001b[0;34m]\u001b[0m\u001b[0;34m)\u001b[0m\u001b[0;34m\u001b[0m\u001b[0m\n\u001b[0m\u001b[1;32m     27\u001b[0m \u001b[0;34m\u001b[0m\u001b[0m\n\u001b[1;32m     28\u001b[0m \u001b[0;31m# All functions will return a set with a boolean and when necessary, a list of values\u001b[0m\u001b[0;34m\u001b[0m\u001b[0;34m\u001b[0m\u001b[0m\n",
        "\u001b[0;31mTypeError\u001b[0m: 'NoneType' object has no attribute '__getitem__'"
       ]
      }
     ],
     "prompt_number": 200
    },
    {
     "cell_type": "code",
     "collapsed": false,
     "input": [],
     "language": "python",
     "metadata": {},
     "outputs": []
    }
   ],
   "metadata": {}
  }
 ]
}